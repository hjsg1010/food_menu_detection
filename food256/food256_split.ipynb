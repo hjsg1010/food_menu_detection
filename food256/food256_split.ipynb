{
 "cells": [
  {
   "cell_type": "code",
   "execution_count": 10,
   "id": "ec88947b",
   "metadata": {},
   "outputs": [],
   "source": [
    "import glob, os"
   ]
  },
  {
   "cell_type": "code",
   "execution_count": 11,
   "id": "bf5449dc",
   "metadata": {},
   "outputs": [],
   "source": [
    "# Current directory\n",
    "# current_dir = os.path.dirname(os.path.abspath(__file__))"
   ]
  },
  {
   "cell_type": "code",
   "execution_count": 12,
   "id": "8a7e3a1f",
   "metadata": {},
   "outputs": [],
   "source": [
    "# Directory where the data will reside, relative to 'darknet.exe'\n",
    "path_data = './images/'"
   ]
  },
  {
   "cell_type": "code",
   "execution_count": 13,
   "id": "36984d3a",
   "metadata": {},
   "outputs": [],
   "source": [
    "# Percentage of images to be used for the test set\n",
    "percentage_test = 15;"
   ]
  },
  {
   "cell_type": "code",
   "execution_count": 14,
   "id": "f92cc711",
   "metadata": {},
   "outputs": [],
   "source": [
    "# Create and/or truncate train.txt and test.txt\n",
    "file_train = open('train.txt', 'w')\n",
    "file_test = open('test.txt', 'w')"
   ]
  },
  {
   "cell_type": "code",
   "execution_count": 15,
   "id": "8ebe2815",
   "metadata": {},
   "outputs": [],
   "source": [
    "# Populate train.txt and test.txt\n",
    "counter = 1\n",
    "index_test = round(100 / percentage_test)\n",
    "for pathAndFilename in glob.iglob(os.path.join(path_data, \"*/*.jpg\")):\n",
    "    title, ext = os.path.splitext(os.path.basename(pathAndFilename))\n",
    "\n",
    "    if counter == index_test:\n",
    "        counter = 1\n",
    "        #file_test.write(path_data + title + '.jpg' + \"\\n\")\n",
    "        file_test.write(pathAndFilename + \"\\n\")\n",
    "    else:\n",
    "        #file_train.write(path_data + title + '.jpg' + \"\\n\")\n",
    "        file_train.write(pathAndFilename + \"\\n\")\n",
    "        counter = counter + 1"
   ]
  },
  {
   "cell_type": "code",
   "execution_count": null,
   "id": "2685b58c",
   "metadata": {},
   "outputs": [],
   "source": []
  }
 ],
 "metadata": {
  "kernelspec": {
   "display_name": "py38_covid",
   "language": "python",
   "name": "covid"
  },
  "language_info": {
   "codemirror_mode": {
    "name": "ipython",
    "version": 3
   },
   "file_extension": ".py",
   "mimetype": "text/x-python",
   "name": "python",
   "nbconvert_exporter": "python",
   "pygments_lexer": "ipython3",
   "version": "3.8.8"
  }
 },
 "nbformat": 4,
 "nbformat_minor": 5
}
